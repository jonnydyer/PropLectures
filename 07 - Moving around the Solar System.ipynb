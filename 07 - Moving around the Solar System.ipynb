{
 "metadata": {
  "name": "",
  "signature": "sha256:ba8936b5099e7e915ca53a7042f1fe575a8fb346dd6899ac8e558a90a03aab79"
 },
 "nbformat": 3,
 "nbformat_minor": 0,
 "worksheets": []
}